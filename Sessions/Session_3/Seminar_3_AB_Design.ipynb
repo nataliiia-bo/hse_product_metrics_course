{
 "cells": [
  {
   "cell_type": "markdown",
   "id": "cae5ed4a-4f1b-4f25-a1d1-657836620b6f",
   "metadata": {},
   "source": [
    "## Дизайн AB-теста\n",
    "\n",
    "Проведение экспериментов — одна из основных и регулярных задач продуктового аналитика. Этот ноутбук рассматривает процесс дизайна и сложности, с которыми можно столкнуться, решая задачу (с фокусом на метрики).\n",
    "\n",
    "После того, как сформулирована гипотеза, аналитик должен ответить на следующие вопросы:\n",
    "1. Какая единица рандомизации эксперимента?\n",
    "2. На какой сегмент будет запущен эксперимент?\n",
    "3. Какой нужен размер выборки?\n",
    "4. Как долго будет идти эксперимент?"
   ]
  },
  {
   "cell_type": "code",
   "execution_count": 1,
   "id": "5e6dc6fa-ad20-462e-b5bd-682a4d9da860",
   "metadata": {},
   "outputs": [],
   "source": [
    "import pandas as pd\n",
    "import numpy as np\n",
    "from datetime import datetime\n",
    "from scipy.stats import norm\n",
    "\n",
    "import warnings\n",
    "warnings.filterwarnings('ignore')"
   ]
  },
  {
   "cell_type": "markdown",
   "id": "848148f0-3970-4ce0-934d-702f82f976cb",
   "metadata": {},
   "source": [
    "### 1. Единица рандомизации эксперимента\n",
    "\n",
    "Классические AB-тесты принято запускать с поюзерным разбиением. Однако, такой формат тестирования подходит не для всех гипотез. К другим распространенным подходам относят:\n",
    "- Свитчбек-тесты — единица рандомизации время или время-пространство;\n",
    "- Региональные (гео) тесты — единица рандомизации город или регион.\n",
    "\n",
    "Мы переходим к другим единицам рандомизации, когда проведение поюзерных тестов может исказить результаты из-за сетевого эффекта.\n",
    "\n",
    "### 2. Сегмент, который попадет в тест\n",
    "\n",
    "Определяется:\n",
    "- гипотезой (если она направлена на конкретную группу пользователей);\n",
    "- местом фичи в продукте (где именно возникает взаимодействие).\n",
    "\n",
    "Разбиение пользователей можно начинать в момент, когда они сталкиваются с экспериментируемым элементом. Например, если мы тестируем пошаговое оформление покупки вместо единой формы, в эксперимент попадут только пользователи, начавшие процесс оформления.\n",
    "\n",
    "### 3. Размер выборки\n",
    "\n",
    "Способ определения размера выборки зависит от критерия, который будем применять к оценке результатов.    \n",
    "Наиболее распространенный подход — расчёт через MDE. При этом в формуле используются квантильные значения стандартного нормального распределения (z-критерий).\n",
    "\n",
    "Для определения размера выборки через MDE нужно задать:\n",
    "- размер эффекта, который мы хотим задетектировать (MDE);\n",
    "- уровни ошибок I и II рода;\n",
    "- дисперсию метрики (базовый показатель конверсии для конверсий).\n",
    "\n",
    "**Для среднего**:\n",
    "\n",
    "$$\n",
    "n \\;=\\; \\frac{2\\,\\sigma^2 \\,\\big(z_{1-\\alpha/2}+z_{1-\\beta}\\big)^2}{\\text{MDE}^2}\n",
    "$$\n",
    "\n",
    "\n",
    "**Для доли** (бинарная метрика):\n",
    "\n",
    "$$\n",
    "n \\;\\\\=\\;\\; \\frac{2\\,p(1-p)\\,\\big(z_{1-\\alpha/2}+z_{1-\\beta}\\big)^2}{\\text{MDE}^2}\n",
    "$$\n",
    "\n",
    "- Формулы указаны для групп одинакового размера (50/50) и двустороннего критерия;\n",
    "- n — размер одной группы.\n",
    "\n",
    "### 4. Длительность эксперимента\n",
    "\n",
    "Зависит от размера выборки. Правильный подход — на пред периоде симулировать накопление уникальных пользователей, взаимодействоваших с функционалом, и вернуть число дней, за которое собрался нужный объем. \n",
    "\n",
    "Так как мы рассматриваем дизайн с точки зрения используемых метрик, давайте просто возьмем среднее число уникальных пользователей в день по месячным данным. Но важно помнить, что такая оценка очень грубая и может давать заметную погрешность."
   ]
  },
  {
   "cell_type": "markdown",
   "id": "c30e7c74-18ea-4e3e-9641-aee474f329a1",
   "metadata": {},
   "source": [
    "### Case Study — дизайн A/B-теста для мобильной игры\n",
    "\n",
    "\n",
    "**Легенда**   \n",
    "Представим, что мы аналитики в команде мобильной игры. К нам пришел продакт и просит провести дизайн эксперимента — мы усложняем уровни игры, начиная с 10 уровня, т.к. хотим вырастить средний чек (пользователям будет сложнее пройти дальше, поэтому они будут покупать более дорогие и эффективные атрибуты).\n",
    "\n",
    "**Гипотеза** — усложнение прохождения игры, начиная с 10 уровня, увеличит средний чек покупки как минимум на 2.5%.\n",
    "\n",
    "1. Единица рандомизации — поюзерный\n",
    "2. Сегмент, который попадет в тест — 10+ уровень\n",
    "3. Размер выборки —"
   ]
  },
  {
   "cell_type": "code",
   "execution_count": 2,
   "id": "b33b0748-9229-49a5-886c-a02a369af7a2",
   "metadata": {},
   "outputs": [
    {
     "data": {
      "text/html": [
       "<div>\n",
       "<style scoped>\n",
       "    .dataframe tbody tr th:only-of-type {\n",
       "        vertical-align: middle;\n",
       "    }\n",
       "\n",
       "    .dataframe tbody tr th {\n",
       "        vertical-align: top;\n",
       "    }\n",
       "\n",
       "    .dataframe thead th {\n",
       "        text-align: right;\n",
       "    }\n",
       "</style>\n",
       "<table border=\"1\" class=\"dataframe\">\n",
       "  <thead>\n",
       "    <tr style=\"text-align: right;\">\n",
       "      <th></th>\n",
       "      <th>date</th>\n",
       "      <th>user_id</th>\n",
       "      <th>level</th>\n",
       "      <th>event_id</th>\n",
       "      <th>purchase_amount</th>\n",
       "    </tr>\n",
       "  </thead>\n",
       "  <tbody>\n",
       "    <tr>\n",
       "      <th>0</th>\n",
       "      <td>2025-08-01</td>\n",
       "      <td>1</td>\n",
       "      <td>4</td>\n",
       "      <td>8</td>\n",
       "      <td>NaN</td>\n",
       "    </tr>\n",
       "    <tr>\n",
       "      <th>1</th>\n",
       "      <td>2025-08-01</td>\n",
       "      <td>1</td>\n",
       "      <td>4</td>\n",
       "      <td>13</td>\n",
       "      <td>NaN</td>\n",
       "    </tr>\n",
       "    <tr>\n",
       "      <th>2</th>\n",
       "      <td>2025-08-01</td>\n",
       "      <td>1</td>\n",
       "      <td>4</td>\n",
       "      <td>12</td>\n",
       "      <td>NaN</td>\n",
       "    </tr>\n",
       "    <tr>\n",
       "      <th>3</th>\n",
       "      <td>2025-08-01</td>\n",
       "      <td>1</td>\n",
       "      <td>4</td>\n",
       "      <td>8</td>\n",
       "      <td>NaN</td>\n",
       "    </tr>\n",
       "    <tr>\n",
       "      <th>4</th>\n",
       "      <td>2025-08-01</td>\n",
       "      <td>2</td>\n",
       "      <td>1</td>\n",
       "      <td>3</td>\n",
       "      <td>NaN</td>\n",
       "    </tr>\n",
       "  </tbody>\n",
       "</table>\n",
       "</div>"
      ],
      "text/plain": [
       "         date  user_id  level  event_id  purchase_amount\n",
       "0  2025-08-01        1      4         8              NaN\n",
       "1  2025-08-01        1      4        13              NaN\n",
       "2  2025-08-01        1      4        12              NaN\n",
       "3  2025-08-01        1      4         8              NaN\n",
       "4  2025-08-01        2      1         3              NaN"
      ]
     },
     "execution_count": 2,
     "metadata": {},
     "output_type": "execute_result"
    }
   ],
   "source": [
    "df = pd.read_csv('data/seminar_3_mobile_game.csv')\n",
    "\n",
    "df.head()"
   ]
  },
  {
   "cell_type": "code",
   "execution_count": 3,
   "id": "80fe8f6e-80b8-4f1f-b5cf-fb10c693de34",
   "metadata": {},
   "outputs": [
    {
     "data": {
      "text/plain": [
       "(2168137, 5)"
      ]
     },
     "execution_count": 3,
     "metadata": {},
     "output_type": "execute_result"
    }
   ],
   "source": [
    "df.shape"
   ]
  },
  {
   "cell_type": "code",
   "execution_count": 4,
   "id": "8131d80e-6b57-4a7c-b5d7-4a1c945a53fa",
   "metadata": {},
   "outputs": [
    {
     "data": {
      "text/plain": [
       "20000"
      ]
     },
     "execution_count": 4,
     "metadata": {},
     "output_type": "execute_result"
    }
   ],
   "source": [
    "df.user_id.nunique()"
   ]
  },
  {
   "cell_type": "code",
   "execution_count": 5,
   "id": "cf7655dc-ea40-412c-9cde-1402303f93a4",
   "metadata": {},
   "outputs": [],
   "source": [
    "df_10_lvl = df[df['level'] >= 10].reset_index(drop=True)"
   ]
  },
  {
   "cell_type": "markdown",
   "id": "76432e08-8e03-46e3-be60-02e7e6b98945",
   "metadata": {},
   "source": [
    "Покупка — event_id = 10"
   ]
  },
  {
   "cell_type": "code",
   "execution_count": 6,
   "id": "1783646e-ab8b-4693-b115-d3a1edacf281",
   "metadata": {},
   "outputs": [
    {
     "data": {
      "text/plain": [
       "25.872720063200756"
      ]
     },
     "execution_count": 6,
     "metadata": {},
     "output_type": "execute_result"
    }
   ],
   "source": [
    "df_10_lvl[df_10_lvl['event_id'] == 10].purchase_amount.mean()"
   ]
  },
  {
   "cell_type": "code",
   "execution_count": 7,
   "id": "75ea9024-5b5f-499f-ab24-8487ee9eac3f",
   "metadata": {},
   "outputs": [],
   "source": [
    "def sample_size_mean(metric_series, mde, alpha=0.05, power=0.8, two_sided=True):\n",
    "    \n",
    "    var = np.var(metric_series, ddof=1)\n",
    "    \n",
    "    if two_sided:\n",
    "        z_alpha = norm.ppf(1 - alpha/2)\n",
    "    else:\n",
    "        z_alpha = norm.ppf(1 - alpha)\n",
    "    z_beta = norm.ppf(power)\n",
    "    \n",
    "    n = (2 * var * (z_alpha + z_beta) ** 2) / (mde ** 2)\n",
    "    \n",
    "    return int(np.ceil(n))"
   ]
  },
  {
   "cell_type": "code",
   "execution_count": 8,
   "id": "8b77d643-7243-4e7b-9286-633aea34f32b",
   "metadata": {},
   "outputs": [
    {
     "data": {
      "text/plain": [
       "8860"
      ]
     },
     "execution_count": 8,
     "metadata": {},
     "output_type": "execute_result"
    }
   ],
   "source": [
    "sample_size_mean(df_10_lvl[df_10_lvl['event_id'] == 10].purchase_amount, \n",
    "                 df_10_lvl[df_10_lvl['event_id'] == 10].purchase_amount.mean() * 0.025, \n",
    "                 alpha=0.05, power=0.8, two_sided=True)"
   ]
  },
  {
   "cell_type": "markdown",
   "id": "cf5c20fa-773b-444e-a980-5a541b9dde5e",
   "metadata": {},
   "source": [
    "Не кажется ли вам, что в дизайне есть что-то подозрительное?\n",
    "\n",
    "Средний чек — ratio-метрика. Единица расчета (покупка) в ней отличается от единицы рандомизации эксперимента (пользователя). \n",
    "\n",
    "А если рассчитать средний чек на пользователя?"
   ]
  },
  {
   "cell_type": "code",
   "execution_count": 9,
   "id": "039e2fdd-5390-4c61-945b-9d68d67aabfc",
   "metadata": {},
   "outputs": [],
   "source": [
    "df_10_lvl['is_purchase'] = df_10_lvl['event_id'] == 10"
   ]
  },
  {
   "cell_type": "code",
   "execution_count": 10,
   "id": "562f5862-b8d2-4ad3-a2b3-53444b1090a6",
   "metadata": {},
   "outputs": [],
   "source": [
    "df_users_ratio = df_10_lvl.groupby(['user_id'], as_index=False) \\\n",
    "    .agg(sum_amt=('purchase_amount', 'sum'),\n",
    "         purchases=('is_purchase', 'sum'))"
   ]
  },
  {
   "cell_type": "code",
   "execution_count": 11,
   "id": "54beb09d-9edd-4c5a-a4d2-6f4c3334dc26",
   "metadata": {},
   "outputs": [],
   "source": [
    "df_users_ratio['avg_check_per_user'] = (df_users_ratio['sum_amt'] / df_users_ratio['purchases']).fillna(0)"
   ]
  },
  {
   "cell_type": "code",
   "execution_count": 12,
   "id": "4946f688-4c8a-40cd-8431-03d1b99a22f4",
   "metadata": {},
   "outputs": [
    {
     "data": {
      "text/plain": [
       "user_id               0\n",
       "sum_amt               0\n",
       "purchases             0\n",
       "avg_check_per_user    0\n",
       "dtype: int64"
      ]
     },
     "execution_count": 12,
     "metadata": {},
     "output_type": "execute_result"
    }
   ],
   "source": [
    "df_users_ratio.isna().sum()"
   ]
  },
  {
   "cell_type": "code",
   "execution_count": 13,
   "id": "41f9d636-be65-4b75-bb99-967db2ee6f47",
   "metadata": {},
   "outputs": [
    {
     "data": {
      "text/plain": [
       "12349"
      ]
     },
     "execution_count": 13,
     "metadata": {},
     "output_type": "execute_result"
    }
   ],
   "source": [
    "sample_size_mean(df_users_ratio.avg_check_per_user, \n",
    "                 df_users_ratio.avg_check_per_user.mean() * 0.025, \n",
    "                 alpha=0.05, power=0.8, two_sided=True)"
   ]
  },
  {
   "cell_type": "code",
   "execution_count": 14,
   "id": "19ae5e61-b95f-46d8-94d7-35398928b22f",
   "metadata": {},
   "outputs": [
    {
     "data": {
      "text/plain": [
       "20.410371413919382"
      ]
     },
     "execution_count": 14,
     "metadata": {},
     "output_type": "execute_result"
    }
   ],
   "source": [
    "df_users_ratio.avg_check_per_user.mean()"
   ]
  },
  {
   "cell_type": "code",
   "execution_count": 15,
   "id": "9ca275a3-6cd4-440b-ae27-746dac2dadac",
   "metadata": {},
   "outputs": [
    {
     "data": {
      "text/plain": [
       "25.872720063200756"
      ]
     },
     "execution_count": 15,
     "metadata": {},
     "output_type": "execute_result"
    }
   ],
   "source": [
    "df_10_lvl[df_10_lvl['event_id'] == 10].purchase_amount.mean()"
   ]
  },
  {
   "cell_type": "markdown",
   "id": "1f686310-230e-44ae-b119-dadac846fe1a",
   "metadata": {},
   "source": [
    "Получилась другая метрика :("
   ]
  },
  {
   "cell_type": "markdown",
   "id": "38894ebe-32dd-45ca-b8e2-30286be46b09",
   "metadata": {},
   "source": [
    "**Почему ratio-метрики вообще требуют отдельного внимания?**\n",
    "\n",
    "Мы применяем критерии, опираясь на их предпосылки. Для t-test и z-распределения — это iid, независимые и одинаково распределённые наблюдения. Когда мы работаем с единицей анализа, отличной от единицы рандомизации, мы нарушаем предпосылку о независимости, ведь несколько покупок одного пользователя будут зависимы. \n",
    "\n",
    "Также не стоит забывать, что числитель и знаменатель в Ratio почти всегда зависимы друг от друга (например, мы не получим значение чека в числителе, если покупки в заменателе не случится). Поэтому, для перехода от двух зависимо распределенных величин к третьей величине-отношению, дисперсия новой величины должна учитывать ковариацию между ними.\n",
    "\n",
    "Что же делать?"
   ]
  },
  {
   "cell_type": "markdown",
   "id": "795b6251-aef0-4601-9194-f09b9d58cd5a",
   "metadata": {},
   "source": [
    "### Ratio-метрики\n",
    "\n",
    "В A/B-тестах без ratio-метрик не обойтись. Благодаря формуле они часто оказываются наиболее удачными:\n",
    "- устойчивы;\n",
    "- интерпретируемы.\n",
    "\n",
    "Поэтому в аналитике разработаны специальные подходы для корректной работы с ratio-метриками.\n",
    "\n",
    "**1. Переход к поюзерной метрике.**\n",
    "\n",
    "Перевести ratio на уровень пользователя, чтобы единица анализа совпадала с единицей рандомизации. Например, вместо среднего чека брать ARPU. \n",
    "\n",
    "Плюсы: \n",
    "- независимость наблюдений, корректный t-test;\n",
    "- легко интерпретировать дисперсию.\n",
    "         \n",
    "Минусы:\n",
    "- это совсем другая метрика, направление которой может не совпадать с изначальной;\n",
    "- решение по эксперименту может быть ошибочным (например, если какая-то часть пользователей просто начнет покупать чаще, то мы увидим рост ARPU без роста среднего чека).\n",
    "\n",
    "**2. Дельта-метод.**\n",
    "\n",
    "[Оригинальная статья](https://alexdeng.github.io/public/files/kdd2018-dm.pdf) о применении метода в A/B тестировании.    \n",
    "Подход использует формулу для оценки дисперсиии отношения двух случайных величин:\n",
    "\n",
    "$$\n",
    "\\mathrm{Var}\\!\\left(\\frac{X}{Y}\\right) \\;\\approx\\; \n",
    "\\frac{1}{\\mu_Y^2}\\,\\mathrm{Var}(X) \n",
    "\\;+\\; \\frac{\\mu_X^2}{\\mu_Y^4}\\,\\mathrm{Var}(Y) \n",
    "\\;-\\; 2\\,\\frac{\\mu_X}{\\mu_Y^3}\\,\\mathrm{Cov}(X,Y)\n",
    "$$\n",
    "\n",
    "тогда\n",
    "\n",
    "$$\n",
    "n \\;=\\; \\frac{2 \\cdot \\mathrm{Var}\\!\\left(\\tfrac{X}{Y}\\right)\\,\\big(z_{1-\\alpha/2}+z_{1-\\beta}\\big)^2}{\\text{MDE}^2}\n",
    "$$\n",
    "\n",
    "Плюсы: \n",
    "- работаем с изначальной метрикой;\n",
    "- быстрый метод, который хорошо подходит для больших выборок.\n",
    "\n",
    "Минусы:\n",
    "- работает на асимптотическом приближении, следовательно может быть не точным при небольших n;\n",
    "- требует относительно стабильного знаменателя (свитчбек-тестирование может не удовлетворять этому требованию, особенно при семплировании одновременно по маленьким гео и временным слотам).\n",
    "\n",
    "**3. Линеаризация.**\n",
    "\n",
    "Переходит от Ratio к новой, линеаризованной метрике (Z) для каждого наблюдения, дисперсию для которой можно рассчитать по формуле для обычного среднего. [Оригинальная статья](https://www.researchgate.net/profile/Roman-Budylin/publication/322969314_Consistent_Transformation_of_Ratio_Metrics_for_Efficient_Online_Controlled_Experiments/links/5b054bbb45851588c6d4a1aa/Consistent-Transformation-of-Ratio-Metrics-for-Efficient-Online-Controlled-Experiments.pdf) от Яндекса.\n",
    "\n",
    "$$\n",
    "Z_i \\;=\\; \\frac{\\overline X}{\\overline Y} \\;+\\; \\frac{1}{\\overline Y}\\!\\left( X_i \\;-\\; \\frac{\\overline X}{\\overline Y}\\, Y_i \\right).\n",
    "$$\n",
    "\n",
    "тогда\n",
    "\n",
    "$$\n",
    "n \\;=\\; \\frac{2 \\cdot \\mathrm{Var}(Z)\\,\\big(z_{1-\\alpha/2}+z_{1-\\beta}\\big)^2}{\\text{MDE}^2}.\n",
    "$$\n",
    "\n",
    "Плюсы: \n",
    "- линеаризованная метрика ведет себя как обычная по-юзерная (юзера можно заменить на любой юнит рандомизации), к ней применимы t-test и законы распределения среднего;\n",
    "- к линеаризованной метрике можно применять любые методы снижения дисперсии (например, CUPED);\n",
    "- простота реализации.\n",
    "  \n",
    "Минусы: \n",
    "- работает на асимптотическом приближении, следовательно может быть не точным при небольших n;\n",
    "- интерпретация может быть непонятна бизнесу;\n",
    "- подход все еще чувствителен к выбросам в знаменателе (но более устойчив, чем дельта-метод).\n",
    "\n",
    "Из-за перечисленных преимуществ в России чаще выбирают линеаризацию. В международных материалах чаще встречается дельта-метод, особенно для классических по-юзерных A/B тестов."
   ]
  },
  {
   "cell_type": "code",
   "execution_count": 16,
   "id": "f24faa7e-8748-4f7c-a5a0-b454433026eb",
   "metadata": {},
   "outputs": [],
   "source": [
    "def sample_size_ratio_delta(num, den, mde, alpha=0.05, power=0.8, two_sided=True):\n",
    "    mu_X = num.mean()\n",
    "    mu_Y = den.mean()\n",
    "    \n",
    "    var_X = np.var(num, ddof=1)\n",
    "    var_Y = np.var(den, ddof=1)\n",
    "    cov_XY = np.cov(num, den, ddof=1)[0,1]\n",
    "\n",
    "    var_ratio = (var_X / mu_Y**2\n",
    "                 - 2 * mu_X * cov_XY / mu_Y**3\n",
    "                 + (mu_X**2) * var_Y / mu_Y**4)\n",
    "\n",
    "    if two_sided:\n",
    "        z_alpha = norm.ppf(1 - alpha/2)\n",
    "    else:\n",
    "        z_alpha = norm.ppf(1 - alpha)\n",
    "    z_beta = norm.ppf(power)\n",
    "\n",
    "    n = (2 * var_ratio * (z_alpha + z_beta)**2) / (mde**2)\n",
    "    return int(np.ceil(n))"
   ]
  },
  {
   "cell_type": "code",
   "execution_count": 17,
   "id": "92b64e29-6aac-41ee-92e9-d74be6643b6d",
   "metadata": {},
   "outputs": [
    {
     "data": {
      "text/plain": [
       "3699"
      ]
     },
     "execution_count": 17,
     "metadata": {},
     "output_type": "execute_result"
    }
   ],
   "source": [
    "sample_size_ratio_delta(df_users_ratio.sum_amt, df_users_ratio.purchases, \n",
    "                        (df_users_ratio['sum_amt'].sum() / df_users_ratio['purchases'].sum()) * 0.025,  \n",
    "                        alpha=0.05, power=0.8, two_sided=True)"
   ]
  },
  {
   "cell_type": "code",
   "execution_count": 18,
   "id": "c1ea001d-8c4f-44f0-9643-ed87d2324f57",
   "metadata": {},
   "outputs": [],
   "source": [
    "unique_users_per_day = df.user_id.nunique() / df['date'].nunique()"
   ]
  },
  {
   "cell_type": "code",
   "execution_count": 19,
   "id": "fdf16227-4a79-4746-a917-dd57a15ff5e3",
   "metadata": {},
   "outputs": [],
   "source": [
    "n = sample_size_ratio_delta(df_users_ratio.sum_amt, df_users_ratio.purchases, \n",
    "                        (df_users_ratio['sum_amt'].sum() / df_users_ratio['purchases'].sum()) * 0.025,  \n",
    "                        alpha=0.05, power=0.8, two_sided=True)"
   ]
  },
  {
   "cell_type": "code",
   "execution_count": 20,
   "id": "8b0d5ec1-30e0-4298-9fe2-721b2c00d309",
   "metadata": {},
   "outputs": [
    {
     "data": {
      "text/plain": [
       "11.4669"
      ]
     },
     "execution_count": 20,
     "metadata": {},
     "output_type": "execute_result"
    }
   ],
   "source": [
    "n * 2 /unique_users_per_day"
   ]
  },
  {
   "cell_type": "markdown",
   "id": "c038ec6e-26a6-44d1-ac14-00f01a942dbb",
   "metadata": {},
   "source": [
    "### Свитчбек-тесты\n",
    "\n",
    "При свитчбек-тестировании мы чередуем показ тестового и контрольного варианта, рандомизируя их по времени (слот зависит от тестируемой фичи и специфики продукта, может быть как 5 минут, так и 1 час). Также распространен вариант, в котором переключение происходит не только по времени, но и по пространству (такой подход часто используют в такси, где пространственной единицей становится [гексагон](https://h3geo.org/)).\n",
    "\n",
    "В контексте курса нам интересны свитчбеки, т.к. почти все метрики для такого дизайна превращаются в Ratio на уровне слота. Даже по-юзерные, ведь теперь в один слот попадет сразу несколько пользователей, а числитель и знаменатель метрики слота приобретут зависимость. Тот же ARPU примет вид:\n",
    "$$\n",
    "ARPU_{slot} \\;=\\; \\frac{\\text{сумма revenue в слоте}}{\\text{число активных пользователей в слоте}}\n",
    "$$\n",
    "\n",
    "Поэтому в таких тестах не обойтись без рассмотренных выше подходов.\n",
    "\n",
    "*Свитчбек-тестирование — отдельная большая тема в рамках онлайн-экспериментов. В работе с ними часто учитывают и равномерность распределения слотов между тестом-контролем в рамках дня недели - часа, и наличие корреляции / сетевого эффекта между слотами (при наличии такой проблемы могут вводить поправку на автокорреляцию / буфферные зоны между переключениями, которые не участвуют в подведении итогов эксперимента). Мы не будем углубляться в специфику, т.к. это курс про метрики, а не про эксперименты. Но имейте в виду, что на рассмотренной реализации, челленджи в свитчбек-тестировании не заканчиваются :)*"
   ]
  },
  {
   "cell_type": "markdown",
   "id": "18f0056c-6fb7-4373-a985-220bb419ddf6",
   "metadata": {},
   "source": [
    "В задаче кейса нет предпосылок использовать считчбек. Поэтому давайте возьмем один из датасетов, с котором вы работали дома, с историческими данными сервиса такси, и реализуем дизайн эксперимента для свитчбека 30-минутки и метрики Completion Rate вместе с подходом линеаризации для Ratio."
   ]
  },
  {
   "cell_type": "code",
   "execution_count": 21,
   "id": "55f210cd-84e1-4bee-8e60-9f4ac111d703",
   "metadata": {},
   "outputs": [
    {
     "data": {
      "text/html": [
       "<div>\n",
       "<style scoped>\n",
       "    .dataframe tbody tr th:only-of-type {\n",
       "        vertical-align: middle;\n",
       "    }\n",
       "\n",
       "    .dataframe tbody tr th {\n",
       "        vertical-align: top;\n",
       "    }\n",
       "\n",
       "    .dataframe thead th {\n",
       "        text-align: right;\n",
       "    }\n",
       "</style>\n",
       "<table border=\"1\" class=\"dataframe\">\n",
       "  <thead>\n",
       "    <tr style=\"text-align: right;\">\n",
       "      <th></th>\n",
       "      <th>date</th>\n",
       "      <th>time</th>\n",
       "      <th>order_uid</th>\n",
       "      <th>order_status</th>\n",
       "      <th>passenger_id</th>\n",
       "      <th>vehicle_type</th>\n",
       "      <th>pickup_location</th>\n",
       "      <th>drop_location</th>\n",
       "      <th>ETA</th>\n",
       "      <th>RTA</th>\n",
       "      <th>...</th>\n",
       "      <th>reason_for_cancelling_by_customer</th>\n",
       "      <th>cancelled_rides_by_driver</th>\n",
       "      <th>driver_cancellation_reason</th>\n",
       "      <th>incomplete_rides</th>\n",
       "      <th>incomplete_rides_reason</th>\n",
       "      <th>fare</th>\n",
       "      <th>ride_distance</th>\n",
       "      <th>driver_ratings</th>\n",
       "      <th>customer_rating</th>\n",
       "      <th>payment_method</th>\n",
       "    </tr>\n",
       "  </thead>\n",
       "  <tbody>\n",
       "    <tr>\n",
       "      <th>0</th>\n",
       "      <td>2024-01-01</td>\n",
       "      <td>00:19:34</td>\n",
       "      <td>2a11faf27f77eae8</td>\n",
       "      <td>Completed</td>\n",
       "      <td>CID8362794</td>\n",
       "      <td>Bike</td>\n",
       "      <td>Udyog Vihar</td>\n",
       "      <td>Ambience Mall</td>\n",
       "      <td>9.0</td>\n",
       "      <td>10.8</td>\n",
       "      <td>...</td>\n",
       "      <td>NaN</td>\n",
       "      <td>NaN</td>\n",
       "      <td>NaN</td>\n",
       "      <td>NaN</td>\n",
       "      <td>NaN</td>\n",
       "      <td>99.0</td>\n",
       "      <td>37.98</td>\n",
       "      <td>4.8</td>\n",
       "      <td>4.8</td>\n",
       "      <td>Cash</td>\n",
       "    </tr>\n",
       "    <tr>\n",
       "      <th>1</th>\n",
       "      <td>2024-01-01</td>\n",
       "      <td>01:35:18</td>\n",
       "      <td>33ed1f6bad78bdc8</td>\n",
       "      <td>Completed</td>\n",
       "      <td>CID8300238</td>\n",
       "      <td>Go Mini</td>\n",
       "      <td>Basai Dhankot</td>\n",
       "      <td>Madipur</td>\n",
       "      <td>6.0</td>\n",
       "      <td>8.5</td>\n",
       "      <td>...</td>\n",
       "      <td>NaN</td>\n",
       "      <td>NaN</td>\n",
       "      <td>NaN</td>\n",
       "      <td>NaN</td>\n",
       "      <td>NaN</td>\n",
       "      <td>114.0</td>\n",
       "      <td>39.29</td>\n",
       "      <td>4.2</td>\n",
       "      <td>4.1</td>\n",
       "      <td>Uber Wallet</td>\n",
       "    </tr>\n",
       "    <tr>\n",
       "      <th>2</th>\n",
       "      <td>2024-01-01</td>\n",
       "      <td>01:37:50</td>\n",
       "      <td>e2fc1fc520e93b85</td>\n",
       "      <td>Cancelled by Driver</td>\n",
       "      <td>CID2030746</td>\n",
       "      <td>Go Sedan</td>\n",
       "      <td>Tughlakabad</td>\n",
       "      <td>Greater Kailash</td>\n",
       "      <td>6.0</td>\n",
       "      <td>7.4</td>\n",
       "      <td>...</td>\n",
       "      <td>NaN</td>\n",
       "      <td>1.0</td>\n",
       "      <td>More than permitted people in there</td>\n",
       "      <td>NaN</td>\n",
       "      <td>NaN</td>\n",
       "      <td>NaN</td>\n",
       "      <td>NaN</td>\n",
       "      <td>NaN</td>\n",
       "      <td>NaN</td>\n",
       "      <td>NaN</td>\n",
       "    </tr>\n",
       "    <tr>\n",
       "      <th>3</th>\n",
       "      <td>2024-01-01</td>\n",
       "      <td>01:48:03</td>\n",
       "      <td>a130fd507acf7804</td>\n",
       "      <td>Cancelled by Driver</td>\n",
       "      <td>CID3231181</td>\n",
       "      <td>Auto</td>\n",
       "      <td>Palam Vihar</td>\n",
       "      <td>Kherki Daula Toll</td>\n",
       "      <td>5.0</td>\n",
       "      <td>NaN</td>\n",
       "      <td>...</td>\n",
       "      <td>NaN</td>\n",
       "      <td>1.0</td>\n",
       "      <td>Personal &amp; Car related issues</td>\n",
       "      <td>NaN</td>\n",
       "      <td>NaN</td>\n",
       "      <td>NaN</td>\n",
       "      <td>NaN</td>\n",
       "      <td>NaN</td>\n",
       "      <td>NaN</td>\n",
       "      <td>NaN</td>\n",
       "    </tr>\n",
       "    <tr>\n",
       "      <th>4</th>\n",
       "      <td>2024-01-01</td>\n",
       "      <td>01:49:56</td>\n",
       "      <td>cae2db8689a422fa</td>\n",
       "      <td>Cancelled by Driver</td>\n",
       "      <td>CID3381661</td>\n",
       "      <td>Go Sedan</td>\n",
       "      <td>Narsinghpur</td>\n",
       "      <td>Pulbangash</td>\n",
       "      <td>3.0</td>\n",
       "      <td>6.2</td>\n",
       "      <td>...</td>\n",
       "      <td>NaN</td>\n",
       "      <td>1.0</td>\n",
       "      <td>More than permitted people in there</td>\n",
       "      <td>NaN</td>\n",
       "      <td>NaN</td>\n",
       "      <td>NaN</td>\n",
       "      <td>NaN</td>\n",
       "      <td>NaN</td>\n",
       "      <td>NaN</td>\n",
       "      <td>NaN</td>\n",
       "    </tr>\n",
       "  </tbody>\n",
       "</table>\n",
       "<p>5 rows × 22 columns</p>\n",
       "</div>"
      ],
      "text/plain": [
       "         date      time         order_uid         order_status passenger_id  \\\n",
       "0  2024-01-01  00:19:34  2a11faf27f77eae8            Completed   CID8362794   \n",
       "1  2024-01-01  01:35:18  33ed1f6bad78bdc8            Completed   CID8300238   \n",
       "2  2024-01-01  01:37:50  e2fc1fc520e93b85  Cancelled by Driver   CID2030746   \n",
       "3  2024-01-01  01:48:03  a130fd507acf7804  Cancelled by Driver   CID3231181   \n",
       "4  2024-01-01  01:49:56  cae2db8689a422fa  Cancelled by Driver   CID3381661   \n",
       "\n",
       "  vehicle_type pickup_location      drop_location  ETA   RTA  ...  \\\n",
       "0         Bike     Udyog Vihar      Ambience Mall  9.0  10.8  ...   \n",
       "1      Go Mini   Basai Dhankot            Madipur  6.0   8.5  ...   \n",
       "2     Go Sedan     Tughlakabad    Greater Kailash  6.0   7.4  ...   \n",
       "3         Auto     Palam Vihar  Kherki Daula Toll  5.0   NaN  ...   \n",
       "4     Go Sedan     Narsinghpur         Pulbangash  3.0   6.2  ...   \n",
       "\n",
       "  reason_for_cancelling_by_customer  cancelled_rides_by_driver  \\\n",
       "0                               NaN                        NaN   \n",
       "1                               NaN                        NaN   \n",
       "2                               NaN                        1.0   \n",
       "3                               NaN                        1.0   \n",
       "4                               NaN                        1.0   \n",
       "\n",
       "            driver_cancellation_reason  incomplete_rides  \\\n",
       "0                                  NaN               NaN   \n",
       "1                                  NaN               NaN   \n",
       "2  More than permitted people in there               NaN   \n",
       "3        Personal & Car related issues               NaN   \n",
       "4  More than permitted people in there               NaN   \n",
       "\n",
       "  incomplete_rides_reason   fare ride_distance  driver_ratings  \\\n",
       "0                     NaN   99.0         37.98             4.8   \n",
       "1                     NaN  114.0         39.29             4.2   \n",
       "2                     NaN    NaN           NaN             NaN   \n",
       "3                     NaN    NaN           NaN             NaN   \n",
       "4                     NaN    NaN           NaN             NaN   \n",
       "\n",
       "   customer_rating  payment_method  \n",
       "0              4.8            Cash  \n",
       "1              4.1     Uber Wallet  \n",
       "2              NaN             NaN  \n",
       "3              NaN             NaN  \n",
       "4              NaN             NaN  \n",
       "\n",
       "[5 rows x 22 columns]"
      ]
     },
     "execution_count": 21,
     "metadata": {},
     "output_type": "execute_result"
    }
   ],
   "source": [
    "df_taxi = pd.read_csv('data/hw_2_taxi.csv')\n",
    "\n",
    "df_taxi.head()"
   ]
  },
  {
   "cell_type": "code",
   "execution_count": 22,
   "id": "dc8788a1-5801-4722-a0fa-3bfe135ae71a",
   "metadata": {},
   "outputs": [
    {
     "data": {
      "text/plain": [
       "150000"
      ]
     },
     "execution_count": 22,
     "metadata": {},
     "output_type": "execute_result"
    }
   ],
   "source": [
    "df_taxi.order_uid.nunique()"
   ]
  },
  {
   "cell_type": "code",
   "execution_count": 23,
   "id": "01cdd130-79d0-432a-bef5-773852c07550",
   "metadata": {},
   "outputs": [
    {
     "data": {
      "text/plain": [
       "(150000, 22)"
      ]
     },
     "execution_count": 23,
     "metadata": {},
     "output_type": "execute_result"
    }
   ],
   "source": [
    "df_taxi.shape"
   ]
  },
  {
   "cell_type": "code",
   "execution_count": 24,
   "id": "e595777c-178c-4e53-bb32-375e5f47a57a",
   "metadata": {},
   "outputs": [],
   "source": [
    "df_taxi['date'] = pd.to_datetime(df_taxi['date'])\n",
    "df_taxi['timestamp'] = pd.to_datetime(df_taxi['date'].dt.strftime('%Y-%m-%d') + ' ' + df_taxi['time'].astype(str))"
   ]
  },
  {
   "cell_type": "code",
   "execution_count": 25,
   "id": "5646a806-8885-4eb9-8166-2d7fc6da4063",
   "metadata": {},
   "outputs": [
    {
     "data": {
      "text/plain": [
       "Timestamp('2024-12-30 23:36:11')"
      ]
     },
     "execution_count": 25,
     "metadata": {},
     "output_type": "execute_result"
    }
   ],
   "source": [
    "df_taxi.timestamp.max()"
   ]
  },
  {
   "cell_type": "markdown",
   "id": "4cc30ae1-7f75-4c3d-9e67-96489d2009f1",
   "metadata": {},
   "source": [
    "Давайте возьмем только декабрьские данные на дизайн"
   ]
  },
  {
   "cell_type": "code",
   "execution_count": 26,
   "id": "6f3ddb6b-96bc-452f-9949-bb9f6c985ef3",
   "metadata": {},
   "outputs": [],
   "source": [
    "df_taxi_dec = df_taxi[df_taxi['timestamp'] >= pd.Timestamp(2024, 12, 1)].reset_index(drop=True)"
   ]
  },
  {
   "cell_type": "code",
   "execution_count": 27,
   "id": "555bfc92-a760-457d-9171-fae4e7785682",
   "metadata": {},
   "outputs": [],
   "source": [
    "df_taxi_dec['is_ride'] = df_taxi_dec['order_status'] == 'Completed'"
   ]
  },
  {
   "cell_type": "markdown",
   "id": "e08bf6a0-dd65-4ec4-b940-e32e556feb3c",
   "metadata": {},
   "source": [
    "Получаем датафрейм с агрегированными данными по временным слотам"
   ]
  },
  {
   "cell_type": "code",
   "execution_count": 28,
   "id": "42cc3d2c-4cf2-4bc8-9383-4dcd1ec581f3",
   "metadata": {},
   "outputs": [],
   "source": [
    "def get_switchback_units(df, num, den, num_agg, den_agg, time_col, time_slot_min):\n",
    "    \n",
    "    df_units = df \\\n",
    "        .set_index(time_col) \\\n",
    "        .groupby(pd.Grouper(freq=f'{time_slot_min}min')) \\\n",
    "        .agg({num:num_agg,\n",
    "              den:den_agg}) \\\n",
    "        .reset_index() \\\n",
    "        .rename(columns={time_col:'unit_start'})\n",
    "    \n",
    "    df_units['unit_end'] = df_units['unit_start'] + pd.Timedelta(minutes=time_slot_min)\n",
    "\n",
    "    return df_units"
   ]
  },
  {
   "cell_type": "code",
   "execution_count": 29,
   "id": "5e000f19-d995-43fa-ba9c-c3e6dbe13406",
   "metadata": {},
   "outputs": [
    {
     "data": {
      "text/html": [
       "<div>\n",
       "<style scoped>\n",
       "    .dataframe tbody tr th:only-of-type {\n",
       "        vertical-align: middle;\n",
       "    }\n",
       "\n",
       "    .dataframe tbody tr th {\n",
       "        vertical-align: top;\n",
       "    }\n",
       "\n",
       "    .dataframe thead th {\n",
       "        text-align: right;\n",
       "    }\n",
       "</style>\n",
       "<table border=\"1\" class=\"dataframe\">\n",
       "  <thead>\n",
       "    <tr style=\"text-align: right;\">\n",
       "      <th></th>\n",
       "      <th>unit_start</th>\n",
       "      <th>is_ride</th>\n",
       "      <th>order_uid</th>\n",
       "      <th>unit_end</th>\n",
       "    </tr>\n",
       "  </thead>\n",
       "  <tbody>\n",
       "    <tr>\n",
       "      <th>0</th>\n",
       "      <td>2024-12-01 00:00:00</td>\n",
       "      <td>1</td>\n",
       "      <td>2</td>\n",
       "      <td>2024-12-01 00:30:00</td>\n",
       "    </tr>\n",
       "    <tr>\n",
       "      <th>1</th>\n",
       "      <td>2024-12-01 00:30:00</td>\n",
       "      <td>0</td>\n",
       "      <td>0</td>\n",
       "      <td>2024-12-01 01:00:00</td>\n",
       "    </tr>\n",
       "    <tr>\n",
       "      <th>2</th>\n",
       "      <td>2024-12-01 01:00:00</td>\n",
       "      <td>0</td>\n",
       "      <td>1</td>\n",
       "      <td>2024-12-01 01:30:00</td>\n",
       "    </tr>\n",
       "    <tr>\n",
       "      <th>3</th>\n",
       "      <td>2024-12-01 01:30:00</td>\n",
       "      <td>1</td>\n",
       "      <td>1</td>\n",
       "      <td>2024-12-01 02:00:00</td>\n",
       "    </tr>\n",
       "    <tr>\n",
       "      <th>4</th>\n",
       "      <td>2024-12-01 02:00:00</td>\n",
       "      <td>0</td>\n",
       "      <td>1</td>\n",
       "      <td>2024-12-01 02:30:00</td>\n",
       "    </tr>\n",
       "  </tbody>\n",
       "</table>\n",
       "</div>"
      ],
      "text/plain": [
       "           unit_start  is_ride  order_uid            unit_end\n",
       "0 2024-12-01 00:00:00        1          2 2024-12-01 00:30:00\n",
       "1 2024-12-01 00:30:00        0          0 2024-12-01 01:00:00\n",
       "2 2024-12-01 01:00:00        0          1 2024-12-01 01:30:00\n",
       "3 2024-12-01 01:30:00        1          1 2024-12-01 02:00:00\n",
       "4 2024-12-01 02:00:00        0          1 2024-12-01 02:30:00"
      ]
     },
     "execution_count": 29,
     "metadata": {},
     "output_type": "execute_result"
    }
   ],
   "source": [
    "df_taxi_dec_time_units = get_switchback_units(df_taxi_dec, 'is_ride', 'order_uid', 'sum', 'nunique', 'timestamp', 30)\n",
    "\n",
    "df_taxi_dec_time_units.head()"
   ]
  },
  {
   "cell_type": "markdown",
   "id": "789e2b6d-8074-4d49-93c7-5a021eff7d06",
   "metadata": {},
   "source": [
    "Линеаризуем метрику"
   ]
  },
  {
   "cell_type": "code",
   "execution_count": 32,
   "id": "a714c05e-952d-4633-8771-b5965ab1629b",
   "metadata": {},
   "outputs": [],
   "source": [
    "def ratio_linearise(num, den):\n",
    "    num_mean = np.mean(num)\n",
    "    den_mean = np.mean(den)\n",
    "    z_lin = num_mean / den_mean + 1 / den_mean * (num - num_mean / den_mean * den)\n",
    "    \n",
    "    return z_lin"
   ]
  },
  {
   "cell_type": "code",
   "execution_count": 33,
   "id": "e1c82b92-cd8b-40da-ad3d-13298373d9d6",
   "metadata": {},
   "outputs": [
    {
     "data": {
      "text/plain": [
       "0    0.593411\n",
       "1    0.622122\n",
       "2    0.548991\n",
       "3    0.666542\n",
       "4    0.548991\n",
       "dtype: float64"
      ]
     },
     "execution_count": 33,
     "metadata": {},
     "output_type": "execute_result"
    }
   ],
   "source": [
    "z_lin_CR = ratio_linearise(df_taxi_dec_time_units.is_ride, df_taxi_dec_time_units.order_uid)\n",
    "\n",
    "z_lin_CR[:5]"
   ]
  },
  {
   "cell_type": "markdown",
   "id": "8c608424-4615-42f8-a716-85144dd43740",
   "metadata": {},
   "source": [
    "Используем обычную формулу размера выборки через MDE для среднего, т.к. мы перешли к линеаризованной метрике на юнит. Заложим относительный эффект 4%"
   ]
  },
  {
   "cell_type": "code",
   "execution_count": 34,
   "id": "314a2847-7336-40a6-a292-666a6f1582a4",
   "metadata": {},
   "outputs": [
    {
     "data": {
      "text/plain": [
       "666"
      ]
     },
     "execution_count": 34,
     "metadata": {},
     "output_type": "execute_result"
    }
   ],
   "source": [
    "sample_size_mean(z_lin_CR, 0.04 * z_lin_CR.mean(), alpha=0.05, power=0.8, two_sided=True)"
   ]
  },
  {
   "cell_type": "markdown",
   "id": "a398beb5-e6fc-4397-91cf-c586223c30e6",
   "metadata": {},
   "source": [
    "Не забывайте, что размер выборки, который мы получаем в данной формуле, возвращается к нам в единицах рандомизации! В этом примере — в числе 30-минуток. Поэтому, для расчета длительности теста в днях, будем делить полученное число на количество 30-минуток за день"
   ]
  },
  {
   "cell_type": "code",
   "execution_count": 35,
   "id": "6a609764-3fb6-4992-b5b5-2043c8aca8f2",
   "metadata": {},
   "outputs": [
    {
     "data": {
      "text/plain": [
       "27.75"
      ]
     },
     "execution_count": 35,
     "metadata": {},
     "output_type": "execute_result"
    }
   ],
   "source": [
    "n_group = sample_size_mean(z_lin_CR, 0.04 * z_lin_CR.mean(), alpha=0.05, power=0.8, two_sided=True)\n",
    "\n",
    "n_group * 2 / (24 * 2)"
   ]
  },
  {
   "cell_type": "markdown",
   "id": "38434200-36bf-453c-af2f-01d14af32c10",
   "metadata": {},
   "source": [
    "Для детектирования относительного эффекта в 4% для метрики Completion Rate для свитчбека 30-минутки нам потребуется 28 дней"
   ]
  },
  {
   "cell_type": "markdown",
   "id": "a68ac114-e53a-438f-8c4b-15b5574f3af1",
   "metadata": {},
   "source": []
  }
 ],
 "metadata": {
  "kernelspec": {
   "display_name": "Python 3 (ipykernel)",
   "language": "python",
   "name": "python3"
  },
  "language_info": {
   "codemirror_mode": {
    "name": "ipython",
    "version": 3
   },
   "file_extension": ".py",
   "mimetype": "text/x-python",
   "name": "python",
   "nbconvert_exporter": "python",
   "pygments_lexer": "ipython3",
   "version": "3.12.0"
  }
 },
 "nbformat": 4,
 "nbformat_minor": 5
}
